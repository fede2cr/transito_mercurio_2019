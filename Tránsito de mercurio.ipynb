{
 "cells": [
  {
   "cell_type": "markdown",
   "metadata": {},
   "source": [
    "# Tránsito de mercurio\n",
    "\n",
    "Este **11 de noviembre del 2019** tenemos un evento astronómico muy importante.\n",
    "\n",
    "Existen muchas tablas publicadas como la de [Cientec](), sin embargo es interesante poder realizar los cálculos por nuestros propios medios, utilizando Python.\n",
    "\n",
    "Recuerde observar el evento utilizando filtros solares apropiados."
   ]
  },
  {
   "cell_type": "code",
   "execution_count": null,
   "metadata": {},
   "outputs": [],
   "source": [
    "# Instalamos la librería ephem\n",
    "# https://pypi.org/project/ephem/\n",
    "!pip3 install ephem\n",
    "# Importamos la librería para su uso\n",
    "import ephem"
   ]
  },
  {
   "cell_type": "code",
   "execution_count": null,
   "metadata": {},
   "outputs": [],
   "source": [
    "# Creamos objeto\n",
    "transito = ephem.Observer()\n",
    "\n",
    "# Configuramos objeto con coordenadas en San José, Costa Rica\n",
    "transito.lon, transito.lat = '9.9373', '-84.0950'"
   ]
  },
  {
   "cell_type": "markdown",
   "metadata": {},
   "source": [
    "El evento se va a dar de 06:34 am y las 12:04 md. Podemos jugar con diferentes horas para probar que tan cerca están. En este caso, Mercurio está casi en el centro del Sol."
   ]
  },
  {
   "cell_type": "code",
   "execution_count": null,
   "metadata": {},
   "outputs": [],
   "source": [
    "# Probamos a las 10am, ajustando para GMT-6\n",
    "transito.date = '2019/11/11 15:03:30'   # Horas en UTC\n",
    "sol, mercurio = ephem.Sun(), ephem.Mercury()\n",
    "sol.compute(transito)\n",
    "mercurio.compute(transito)\n",
    "print(\"Sol-> \\t\\t Altitud: %s \\t Azimuth: %s\" % (sol.alt, sol.az))\n",
    "print(\"Mercurio -> \\t Altitud: %s \\t Azimuth: %s\" % (mercurio.alt, mercurio.az))"
   ]
  }
 ],
 "metadata": {
  "kernelspec": {
   "display_name": "Python 3",
   "language": "python",
   "name": "python3"
  },
  "language_info": {
   "codemirror_mode": {
    "name": "ipython",
    "version": 3
   },
   "file_extension": ".py",
   "mimetype": "text/x-python",
   "name": "python",
   "nbconvert_exporter": "python",
   "pygments_lexer": "ipython3",
   "version": "3.7.3"
  }
 },
 "nbformat": 4,
 "nbformat_minor": 2
}
